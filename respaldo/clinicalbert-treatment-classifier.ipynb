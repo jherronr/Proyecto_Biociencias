{
 "cells": [
  {
   "cell_type": "code",
   "execution_count": 55,
   "metadata": {
    "execution": {
     "iopub.execute_input": "2025-06-05T15:07:05.381328Z",
     "iopub.status.busy": "2025-06-05T15:07:05.381050Z",
     "iopub.status.idle": "2025-06-05T15:07:05.386351Z",
     "shell.execute_reply": "2025-06-05T15:07:05.385694Z",
     "shell.execute_reply.started": "2025-06-05T15:07:05.381310Z"
    }
   },
   "outputs": [],
   "source": [
    "import os\n",
    "import pandas as pd\n",
    "import numpy as np\n",
    "import matplotlib.pyplot as plt\n",
    "import seaborn as sns\n",
    "from scipy.stats import chi2_contingency\n",
    "from scipy.stats import f_oneway, kruskal\n",
    "\n",
    "from transformers import AutoTokenizer\n",
    "import torch\n",
    "from torch.utils.data import Dataset\n",
    "from sklearn.model_selection import train_test_split\n",
    "from sklearn.preprocessing import LabelEncoder\n",
    "from torch.utils.data import DataLoader\n",
    "import torch.nn as nn\n",
    "from transformers import AutoModel\n",
    "from transformers import get_scheduler\n",
    "from torch.optim import AdamW\n",
    "from sklearn.metrics import accuracy_score\n",
    "from sklearn.metrics import confusion_matrix, classification_report\n",
    "from transformers import BertForSequenceClassification"
   ]
  },
  {
   "cell_type": "code",
   "execution_count": 8,
   "metadata": {
    "execution": {
     "iopub.execute_input": "2025-06-05T14:37:23.578273Z",
     "iopub.status.busy": "2025-06-05T14:37:23.577611Z",
     "iopub.status.idle": "2025-06-05T14:37:23.582281Z",
     "shell.execute_reply": "2025-06-05T14:37:23.581728Z",
     "shell.execute_reply.started": "2025-06-05T14:37:23.578245Z"
    }
   },
   "outputs": [],
   "source": [
    "def chi_squared_test(df, col1, col2):\n",
    "    contingency = pd.crosstab(df[col1], df[col2])\n",
    "    stat, p, dof, expected = chi2_contingency(contingency)\n",
    "    print(f'Chi-cuadrado entre {col1} y {col2}:')\n",
    "    print(f'Estadístico = {stat:.3f}, p-valor = {p:.4f}\\n')\n",
    "    return contingency"
   ]
  },
  {
   "cell_type": "code",
   "execution_count": 9,
   "metadata": {
    "execution": {
     "iopub.execute_input": "2025-06-05T14:37:25.155419Z",
     "iopub.status.busy": "2025-06-05T14:37:25.154897Z",
     "iopub.status.idle": "2025-06-05T14:37:25.159017Z",
     "shell.execute_reply": "2025-06-05T14:37:25.158063Z",
     "shell.execute_reply.started": "2025-06-05T14:37:25.155394Z"
    }
   },
   "outputs": [],
   "source": [
    "def build_input_text(row):\n",
    "    return f\"Condition: {row['Condition']}. Clinical note: {row['Clinical Note']}\""
   ]
  },
  {
   "cell_type": "markdown",
   "metadata": {},
   "source": [
    "## Cargar los datos"
   ]
  },
  {
   "cell_type": "code",
   "execution_count": 10,
   "metadata": {
    "execution": {
     "iopub.execute_input": "2025-06-05T14:37:26.135358Z",
     "iopub.status.busy": "2025-06-05T14:37:26.134837Z",
     "iopub.status.idle": "2025-06-05T14:37:26.162796Z",
     "shell.execute_reply": "2025-06-05T14:37:26.162207Z",
     "shell.execute_reply.started": "2025-06-05T14:37:26.135335Z"
    }
   },
   "outputs": [
    {
     "data": {
      "text/html": [
       "<div>\n",
       "<style scoped>\n",
       "    .dataframe tbody tr th:only-of-type {\n",
       "        vertical-align: middle;\n",
       "    }\n",
       "\n",
       "    .dataframe tbody tr th {\n",
       "        vertical-align: top;\n",
       "    }\n",
       "\n",
       "    .dataframe thead th {\n",
       "        text-align: right;\n",
       "    }\n",
       "</style>\n",
       "<table border=\"1\" class=\"dataframe\">\n",
       "  <thead>\n",
       "    <tr style=\"text-align: right;\">\n",
       "      <th></th>\n",
       "      <th>Case ID</th>\n",
       "      <th>Condition</th>\n",
       "      <th>Age</th>\n",
       "      <th>Sex</th>\n",
       "      <th>Clinical Note</th>\n",
       "      <th>Treatment</th>\n",
       "    </tr>\n",
       "  </thead>\n",
       "  <tbody>\n",
       "    <tr>\n",
       "      <th>0</th>\n",
       "      <td>brain_glioma_0001</td>\n",
       "      <td>Brain Glioma</td>\n",
       "      <td>74</td>\n",
       "      <td>F</td>\n",
       "      <td>Patient is experiencing memory lapses and spee...</td>\n",
       "      <td>surgery</td>\n",
       "    </tr>\n",
       "    <tr>\n",
       "      <th>1</th>\n",
       "      <td>brain_glioma_0002</td>\n",
       "      <td>Brain Glioma</td>\n",
       "      <td>66</td>\n",
       "      <td>F</td>\n",
       "      <td>Patient is experiencing visual disturbances an...</td>\n",
       "      <td>chemotherapy</td>\n",
       "    </tr>\n",
       "    <tr>\n",
       "      <th>2</th>\n",
       "      <td>brain_glioma_0003</td>\n",
       "      <td>Brain Glioma</td>\n",
       "      <td>62</td>\n",
       "      <td>F</td>\n",
       "      <td>Patient is experiencing memory lapses and dizz...</td>\n",
       "      <td>surgery</td>\n",
       "    </tr>\n",
       "    <tr>\n",
       "      <th>3</th>\n",
       "      <td>brain_glioma_0004</td>\n",
       "      <td>Brain Glioma</td>\n",
       "      <td>24</td>\n",
       "      <td>M</td>\n",
       "      <td>Patient is experiencing memory lapses and pers...</td>\n",
       "      <td>surgery</td>\n",
       "    </tr>\n",
       "    <tr>\n",
       "      <th>4</th>\n",
       "      <td>brain_glioma_0005</td>\n",
       "      <td>Brain Glioma</td>\n",
       "      <td>69</td>\n",
       "      <td>M</td>\n",
       "      <td>Patient is experiencing dizziness and frequent...</td>\n",
       "      <td>surgery</td>\n",
       "    </tr>\n",
       "  </tbody>\n",
       "</table>\n",
       "</div>"
      ],
      "text/plain": [
       "             Case ID     Condition  Age Sex  \\\n",
       "0  brain_glioma_0001  Brain Glioma   74   F   \n",
       "1  brain_glioma_0002  Brain Glioma   66   F   \n",
       "2  brain_glioma_0003  Brain Glioma   62   F   \n",
       "3  brain_glioma_0004  Brain Glioma   24   M   \n",
       "4  brain_glioma_0005  Brain Glioma   69   M   \n",
       "\n",
       "                                       Clinical Note     Treatment  \n",
       "0  Patient is experiencing memory lapses and spee...       surgery  \n",
       "1  Patient is experiencing visual disturbances an...  chemotherapy  \n",
       "2  Patient is experiencing memory lapses and dizz...       surgery  \n",
       "3  Patient is experiencing memory lapses and pers...       surgery  \n",
       "4  Patient is experiencing dizziness and frequent...       surgery  "
      ]
     },
     "execution_count": 10,
     "metadata": {},
     "output_type": "execute_result"
    }
   ],
   "source": [
    "df = pd.read_csv(r'/kaggle/input/brain-conditions-detailed-dataset/brain_conditions_detailed_dataset.csv', sep=';')\n",
    "df.head()"
   ]
  },
  {
   "cell_type": "code",
   "execution_count": 11,
   "metadata": {
    "execution": {
     "iopub.execute_input": "2025-06-05T14:37:29.436738Z",
     "iopub.status.busy": "2025-06-05T14:37:29.436434Z",
     "iopub.status.idle": "2025-06-05T14:37:29.446842Z",
     "shell.execute_reply": "2025-06-05T14:37:29.446025Z",
     "shell.execute_reply.started": "2025-06-05T14:37:29.436718Z"
    }
   },
   "outputs": [
    {
     "name": "stdout",
     "output_type": "stream",
     "text": [
      "<class 'pandas.core.frame.DataFrame'>\n",
      "RangeIndex: 6056 entries, 0 to 6055\n",
      "Data columns (total 6 columns):\n",
      " #   Column         Non-Null Count  Dtype \n",
      "---  ------         --------------  ----- \n",
      " 0   Case ID        6012 non-null   object\n",
      " 1   Condition      6056 non-null   object\n",
      " 2   Age            6056 non-null   int64 \n",
      " 3   Sex            6056 non-null   object\n",
      " 4   Clinical Note  6056 non-null   object\n",
      " 5   Treatment      6056 non-null   object\n",
      "dtypes: int64(1), object(5)\n",
      "memory usage: 284.0+ KB\n"
     ]
    }
   ],
   "source": [
    "df.info()"
   ]
  },
  {
   "cell_type": "code",
   "execution_count": 12,
   "metadata": {
    "execution": {
     "iopub.execute_input": "2025-06-05T14:37:31.223650Z",
     "iopub.status.busy": "2025-06-05T14:37:31.223371Z",
     "iopub.status.idle": "2025-06-05T14:37:31.242558Z",
     "shell.execute_reply": "2025-06-05T14:37:31.241932Z",
     "shell.execute_reply.started": "2025-06-05T14:37:31.223629Z"
    }
   },
   "outputs": [
    {
     "name": "stdout",
     "output_type": "stream",
     "text": [
      "<class 'pandas.core.frame.DataFrame'>\n",
      "RangeIndex: 6056 entries, 0 to 6055\n",
      "Data columns (total 6 columns):\n",
      " #   Column         Non-Null Count  Dtype \n",
      "---  ------         --------------  ----- \n",
      " 0   index          6056 non-null   int64 \n",
      " 1   Condition      6056 non-null   object\n",
      " 2   Age            6056 non-null   int64 \n",
      " 3   Sex            6056 non-null   object\n",
      " 4   Clinical Note  6056 non-null   object\n",
      " 5   Treatment      6056 non-null   object\n",
      "dtypes: int64(2), object(4)\n",
      "memory usage: 284.0+ KB\n",
      "None\n"
     ]
    },
    {
     "data": {
      "text/html": [
       "<div>\n",
       "<style scoped>\n",
       "    .dataframe tbody tr th:only-of-type {\n",
       "        vertical-align: middle;\n",
       "    }\n",
       "\n",
       "    .dataframe tbody tr th {\n",
       "        vertical-align: top;\n",
       "    }\n",
       "\n",
       "    .dataframe thead th {\n",
       "        text-align: right;\n",
       "    }\n",
       "</style>\n",
       "<table border=\"1\" class=\"dataframe\">\n",
       "  <thead>\n",
       "    <tr style=\"text-align: right;\">\n",
       "      <th></th>\n",
       "      <th>index</th>\n",
       "      <th>Condition</th>\n",
       "      <th>Age</th>\n",
       "      <th>Sex</th>\n",
       "      <th>Clinical Note</th>\n",
       "      <th>Treatment</th>\n",
       "    </tr>\n",
       "  </thead>\n",
       "  <tbody>\n",
       "    <tr>\n",
       "      <th>0</th>\n",
       "      <td>0</td>\n",
       "      <td>Brain Glioma</td>\n",
       "      <td>74</td>\n",
       "      <td>F</td>\n",
       "      <td>Patient is experiencing memory lapses and spee...</td>\n",
       "      <td>surgery</td>\n",
       "    </tr>\n",
       "    <tr>\n",
       "      <th>1</th>\n",
       "      <td>1</td>\n",
       "      <td>Brain Glioma</td>\n",
       "      <td>66</td>\n",
       "      <td>F</td>\n",
       "      <td>Patient is experiencing visual disturbances an...</td>\n",
       "      <td>chemotherapy</td>\n",
       "    </tr>\n",
       "    <tr>\n",
       "      <th>2</th>\n",
       "      <td>2</td>\n",
       "      <td>Brain Glioma</td>\n",
       "      <td>62</td>\n",
       "      <td>F</td>\n",
       "      <td>Patient is experiencing memory lapses and dizz...</td>\n",
       "      <td>surgery</td>\n",
       "    </tr>\n",
       "    <tr>\n",
       "      <th>3</th>\n",
       "      <td>3</td>\n",
       "      <td>Brain Glioma</td>\n",
       "      <td>24</td>\n",
       "      <td>M</td>\n",
       "      <td>Patient is experiencing memory lapses and pers...</td>\n",
       "      <td>surgery</td>\n",
       "    </tr>\n",
       "    <tr>\n",
       "      <th>4</th>\n",
       "      <td>4</td>\n",
       "      <td>Brain Glioma</td>\n",
       "      <td>69</td>\n",
       "      <td>M</td>\n",
       "      <td>Patient is experiencing dizziness and frequent...</td>\n",
       "      <td>surgery</td>\n",
       "    </tr>\n",
       "  </tbody>\n",
       "</table>\n",
       "</div>"
      ],
      "text/plain": [
       "   index     Condition  Age Sex  \\\n",
       "0      0  Brain Glioma   74   F   \n",
       "1      1  Brain Glioma   66   F   \n",
       "2      2  Brain Glioma   62   F   \n",
       "3      3  Brain Glioma   24   M   \n",
       "4      4  Brain Glioma   69   M   \n",
       "\n",
       "                                       Clinical Note     Treatment  \n",
       "0  Patient is experiencing memory lapses and spee...       surgery  \n",
       "1  Patient is experiencing visual disturbances an...  chemotherapy  \n",
       "2  Patient is experiencing memory lapses and dizz...       surgery  \n",
       "3  Patient is experiencing memory lapses and pers...       surgery  \n",
       "4  Patient is experiencing dizziness and frequent...       surgery  "
      ]
     },
     "execution_count": 12,
     "metadata": {},
     "output_type": "execute_result"
    }
   ],
   "source": [
    "df = df.reset_index().drop('Case ID', axis= 1)\n",
    "print(df.info())\n",
    "df.head()"
   ]
  },
  {
   "cell_type": "code",
   "execution_count": 13,
   "metadata": {
    "execution": {
     "iopub.execute_input": "2025-06-05T14:37:33.165391Z",
     "iopub.status.busy": "2025-06-05T14:37:33.165130Z",
     "iopub.status.idle": "2025-06-05T14:37:33.171050Z",
     "shell.execute_reply": "2025-06-05T14:37:33.170133Z",
     "shell.execute_reply.started": "2025-06-05T14:37:33.165372Z"
    }
   },
   "outputs": [
    {
     "data": {
      "text/plain": [
       "'Patient is experiencing memory lapses and speech difficulties for the last few weeks. The symptoms are described as intense in nature.'"
      ]
     },
     "execution_count": 13,
     "metadata": {},
     "output_type": "execute_result"
    }
   ],
   "source": [
    "df.loc[0,'Clinical Note']"
   ]
  },
  {
   "cell_type": "markdown",
   "metadata": {},
   "source": [
    "# Análisis Descriptivo"
   ]
  },
  {
   "cell_type": "code",
   "execution_count": 14,
   "metadata": {
    "execution": {
     "iopub.execute_input": "2025-06-05T14:37:35.155770Z",
     "iopub.status.busy": "2025-06-05T14:37:35.155035Z",
     "iopub.status.idle": "2025-06-05T14:37:35.164374Z",
     "shell.execute_reply": "2025-06-05T14:37:35.163516Z",
     "shell.execute_reply.started": "2025-06-05T14:37:35.155739Z"
    }
   },
   "outputs": [
    {
     "name": "stdout",
     "output_type": "stream",
     "text": [
      "Condition\n",
      "Brain Tumor          33.817701\n",
      "Brain Glioma         33.091149\n",
      "Brain Meningiomas    33.091149\n",
      "Name: proportion, dtype: float64\n",
      "Sex\n",
      "F    50.84214\n",
      "M    49.15786\n",
      "Name: proportion, dtype: float64\n",
      "Treatment\n",
      "radiation therapy    31.291281\n",
      "surgery              30.515192\n",
      "chemotherapy         19.385733\n",
      "close monitoring     18.807794\n",
      "Name: proportion, dtype: float64\n"
     ]
    }
   ],
   "source": [
    "print(df['Condition'].value_counts(normalize=True) * 100)\n",
    "print(df['Sex'].value_counts(normalize=True) * 100)\n",
    "print(df['Treatment'].value_counts(normalize=True) * 100)"
   ]
  },
  {
   "cell_type": "code",
   "execution_count": 15,
   "metadata": {
    "execution": {
     "iopub.execute_input": "2025-06-05T14:37:36.229959Z",
     "iopub.status.busy": "2025-06-05T14:37:36.229401Z",
     "iopub.status.idle": "2025-06-05T14:37:36.982096Z",
     "shell.execute_reply": "2025-06-05T14:37:36.981359Z",
     "shell.execute_reply.started": "2025-06-05T14:37:36.229937Z"
    }
   },
   "outputs": [
    {
     "data": {
      "image/png": "[encoded data removed]",
      "text/plain": [
       "<Figure size 1200x400 with 3 Axes>"
      ]
     },
     "metadata": {},
     "output_type": "display_data"
    }
   ],
   "source": [
    "plt.figure(figsize=(12, 4))\n",
    "for i, col in enumerate(['Condition', 'Sex', 'Treatment']):\n",
    "    plt.subplot(1, 3, i+1)\n",
    "    sns.countplot(data=df, x=col)\n",
    "    plt.title(f'Distribución de {col}')\n",
    "    plt.xticks(rotation=45)\n",
    "plt.tight_layout()\n",
    "plt.show()"
   ]
  },
  {
   "cell_type": "markdown",
   "metadata": {},
   "source": [
    "Las categorías en las diferentes variables se encuentran bien balanceadas en general."
   ]
  },
  {
   "cell_type": "code",
   "execution_count": 16,
   "metadata": {
    "execution": {
     "iopub.execute_input": "2025-06-05T14:37:41.900018Z",
     "iopub.status.busy": "2025-06-05T14:37:41.899341Z",
     "iopub.status.idle": "2025-06-05T14:37:42.149304Z",
     "shell.execute_reply": "2025-06-05T14:37:42.148755Z",
     "shell.execute_reply.started": "2025-06-05T14:37:41.899992Z"
    }
   },
   "outputs": [
    {
     "name": "stdout",
     "output_type": "stream",
     "text": [
      "count    6056.000000\n",
      "mean       51.764531\n",
      "std        19.619781\n",
      "min        18.000000\n",
      "25%        35.000000\n",
      "50%        52.000000\n",
      "75%        69.000000\n",
      "max        85.000000\n",
      "Name: Age, dtype: float64\n"
     ]
    },
    {
     "name": "stderr",
     "output_type": "stream",
     "text": [
      "/usr/local/lib/python3.11/dist-packages/seaborn/_oldcore.py:1119: FutureWarning: use_inf_as_na option is deprecated and will be removed in a future version. Convert inf values to NaN before operating instead.\n",
      "  with pd.option_context('mode.use_inf_as_na', True):\n"
     ]
    },
    {
     "data": {
      "image/png": "[encoded data removed]",
      "text/plain": [
       "<Figure size 640x480 with 1 Axes>"
      ]
     },
     "metadata": {},
     "output_type": "display_data"
    }
   ],
   "source": [
    "print(df['Age'].describe())\n",
    "sns.histplot(df['Age'], kde=True)\n",
    "plt.title('Distribución de Edad')\n",
    "plt.show()"
   ]
  },
  {
   "cell_type": "code",
   "execution_count": 17,
   "metadata": {
    "execution": {
     "iopub.execute_input": "2025-06-05T14:37:45.694524Z",
     "iopub.status.busy": "2025-06-05T14:37:45.694232Z",
     "iopub.status.idle": "2025-06-05T14:37:45.843155Z",
     "shell.execute_reply": "2025-06-05T14:37:45.842358Z",
     "shell.execute_reply.started": "2025-06-05T14:37:45.694502Z"
    }
   },
   "outputs": [
    {
     "data": {
      "image/png": "[encoded data removed]",
      "text/plain": [
       "<Figure size 640x480 with 1 Axes>"
      ]
     },
     "metadata": {},
     "output_type": "display_data"
    }
   ],
   "source": [
    "sns.boxplot(data=df, x='Treatment', y='Age')\n",
    "plt.title('Edad por tipo de tratamiento')\n",
    "plt.xticks(rotation=45)\n",
    "plt.show()"
   ]
  },
  {
   "cell_type": "markdown",
   "metadata": {},
   "source": [
    "La edad promedio es de 52 años y no se evidencia visualmente una diferencia significativa entre la edad y el tratamiento."
   ]
  },
  {
   "cell_type": "code",
   "execution_count": 18,
   "metadata": {
    "execution": {
     "iopub.execute_input": "2025-06-05T14:37:50.783167Z",
     "iopub.status.busy": "2025-06-05T14:37:50.782427Z",
     "iopub.status.idle": "2025-06-05T14:37:50.796360Z",
     "shell.execute_reply": "2025-06-05T14:37:50.795743Z",
     "shell.execute_reply.started": "2025-06-05T14:37:50.783145Z"
    }
   },
   "outputs": [
    {
     "name": "stdout",
     "output_type": "stream",
     "text": [
      "Kruskal-Wallis Edad vs Tratamiento: H = 2.865, p = 0.4129\n"
     ]
    }
   ],
   "source": [
    "# Agrupar edades por tipo de tratamiento\n",
    "groups = [df[df['Treatment'] == t]['Age'] for t in df['Treatment'].unique()]\n",
    "\n",
    "# Kruskal-Wallis. Lo utilizo porque la edad no se distribuye normal\n",
    "kruskal_stat, kruskal_p = kruskal(*groups)\n",
    "print(f'Kruskal-Wallis Edad vs Tratamiento: H = {kruskal_stat:.3f}, p = {kruskal_p:.4f}')"
   ]
  },
  {
   "cell_type": "markdown",
   "metadata": {},
   "source": [
    "Valor p > 0.05. Rechazo Ho, no hay evidencia estadística suficiente para afirmar que la edad tiene una distribución diferente según el tratamiento asignado. No se tiene en cuenta para el entrenamiento del modelo."
   ]
  },
  {
   "cell_type": "code",
   "execution_count": 19,
   "metadata": {
    "execution": {
     "iopub.execute_input": "2025-06-05T14:38:00.215614Z",
     "iopub.status.busy": "2025-06-05T14:38:00.215035Z",
     "iopub.status.idle": "2025-06-05T14:38:00.242939Z",
     "shell.execute_reply": "2025-06-05T14:38:00.242409Z",
     "shell.execute_reply.started": "2025-06-05T14:38:00.215588Z"
    }
   },
   "outputs": [
    {
     "name": "stdout",
     "output_type": "stream",
     "text": [
      "Chi-cuadrado entre Treatment y Condition:\n",
      "Estadístico = 1273.788, p-valor = 0.0000\n",
      "\n",
      "Chi-cuadrado entre Treatment y Sex:\n",
      "Estadístico = 2.833, p-valor = 0.4181\n",
      "\n"
     ]
    },
    {
     "data": {
      "text/html": [
       "<div>\n",
       "<style scoped>\n",
       "    .dataframe tbody tr th:only-of-type {\n",
       "        vertical-align: middle;\n",
       "    }\n",
       "\n",
       "    .dataframe tbody tr th {\n",
       "        vertical-align: top;\n",
       "    }\n",
       "\n",
       "    .dataframe thead th {\n",
       "        text-align: right;\n",
       "    }\n",
       "</style>\n",
       "<table border=\"1\" class=\"dataframe\">\n",
       "  <thead>\n",
       "    <tr style=\"text-align: right;\">\n",
       "      <th>Sex</th>\n",
       "      <th>F</th>\n",
       "      <th>M</th>\n",
       "    </tr>\n",
       "    <tr>\n",
       "      <th>Treatment</th>\n",
       "      <th></th>\n",
       "      <th></th>\n",
       "    </tr>\n",
       "  </thead>\n",
       "  <tbody>\n",
       "    <tr>\n",
       "      <th>chemotherapy</th>\n",
       "      <td>587</td>\n",
       "      <td>587</td>\n",
       "    </tr>\n",
       "    <tr>\n",
       "      <th>close monitoring</th>\n",
       "      <td>590</td>\n",
       "      <td>549</td>\n",
       "    </tr>\n",
       "    <tr>\n",
       "      <th>radiation therapy</th>\n",
       "      <td>985</td>\n",
       "      <td>910</td>\n",
       "    </tr>\n",
       "    <tr>\n",
       "      <th>surgery</th>\n",
       "      <td>917</td>\n",
       "      <td>931</td>\n",
       "    </tr>\n",
       "  </tbody>\n",
       "</table>\n",
       "</div>"
      ],
      "text/plain": [
       "Sex                  F    M\n",
       "Treatment                  \n",
       "chemotherapy       587  587\n",
       "close monitoring   590  549\n",
       "radiation therapy  985  910\n",
       "surgery            917  931"
      ]
     },
     "execution_count": 19,
     "metadata": {},
     "output_type": "execute_result"
    }
   ],
   "source": [
    "chi_squared_test(df, 'Treatment', 'Condition')\n",
    "chi_squared_test(df, 'Treatment', 'Sex')"
   ]
  },
  {
   "cell_type": "markdown",
   "metadata": {},
   "source": [
    "Hay una relación estadísticamente significativa entre la condición del paciente y el tratamiento recibido. Sin embargo, no hay evidencia suficiente para afirmar que el tratamiento depende del sexo del paciente. Por lo que se considera eliminar esta variable para el entrenamiento del modelo.\n"
   ]
  },
  {
   "cell_type": "code",
   "execution_count": 20,
   "metadata": {
    "execution": {
     "iopub.execute_input": "2025-06-05T14:38:11.883442Z",
     "iopub.status.busy": "2025-06-05T14:38:11.882868Z",
     "iopub.status.idle": "2025-06-05T14:38:12.062599Z",
     "shell.execute_reply": "2025-06-05T14:38:12.061999Z",
     "shell.execute_reply.started": "2025-06-05T14:38:11.883420Z"
    }
   },
   "outputs": [
    {
     "data": {
      "image/png": "[encoded data removed]",
      "text/plain": [
       "<Figure size 640x480 with 1 Axes>"
      ]
     },
     "metadata": {},
     "output_type": "display_data"
    },
    {
     "name": "stdout",
     "output_type": "stream",
     "text": [
      "                    count       mean       std   min   25%   50%   75%   max\n",
      "Treatment                                                                   \n",
      "chemotherapy       1174.0  20.287905  0.678929  18.0  20.0  20.0  21.0  21.0\n",
      "close monitoring   1139.0  19.884109  0.839859  18.0  19.0  20.0  20.0  21.0\n",
      "radiation therapy  1895.0  20.035356  0.810644  18.0  20.0  20.0  21.0  21.0\n",
      "surgery            1848.0  20.078463  0.809266  18.0  20.0  20.0  21.0  21.0\n"
     ]
    }
   ],
   "source": [
    "df['note_length'] = df['Clinical Note'].apply(lambda x: len(x.split()))\n",
    "\n",
    "sns.boxplot(data=df, x='Treatment', y='note_length')\n",
    "plt.title('Longitud de nota clínica por tratamiento')\n",
    "plt.xticks(rotation=45)\n",
    "plt.show()\n",
    "\n",
    "print(df.groupby('Treatment')['note_length'].describe())"
   ]
  },
  {
   "cell_type": "markdown",
   "metadata": {},
   "source": [
    "En general, la cantidad de palabras en notas medicas es igual para los diferentes tratamientos, excepto para close monitoring donde se evidencia una distribución menor en comparación con los demás tratamientos."
   ]
  },
  {
   "cell_type": "markdown",
   "metadata": {},
   "source": [
    "Se crea una nueva variable que concatene la variable Condition y Clinical Note. Con esta nueva variable se entrena el modelo."
   ]
  },
  {
   "cell_type": "code",
   "execution_count": 21,
   "metadata": {
    "execution": {
     "iopub.execute_input": "2025-06-05T14:38:22.310792Z",
     "iopub.status.busy": "2025-06-05T14:38:22.310174Z",
     "iopub.status.idle": "2025-06-05T14:38:22.359129Z",
     "shell.execute_reply": "2025-06-05T14:38:22.358525Z",
     "shell.execute_reply.started": "2025-06-05T14:38:22.310769Z"
    }
   },
   "outputs": [
    {
     "data": {
      "text/html": [
       "<div>\n",
       "<style scoped>\n",
       "    .dataframe tbody tr th:only-of-type {\n",
       "        vertical-align: middle;\n",
       "    }\n",
       "\n",
       "    .dataframe tbody tr th {\n",
       "        vertical-align: top;\n",
       "    }\n",
       "\n",
       "    .dataframe thead th {\n",
       "        text-align: right;\n",
       "    }\n",
       "</style>\n",
       "<table border=\"1\" class=\"dataframe\">\n",
       "  <thead>\n",
       "    <tr style=\"text-align: right;\">\n",
       "      <th></th>\n",
       "      <th>index</th>\n",
       "      <th>Condition</th>\n",
       "      <th>Age</th>\n",
       "      <th>Sex</th>\n",
       "      <th>Clinical Note</th>\n",
       "      <th>Treatment</th>\n",
       "      <th>note_length</th>\n",
       "      <th>input_text</th>\n",
       "    </tr>\n",
       "  </thead>\n",
       "  <tbody>\n",
       "    <tr>\n",
       "      <th>0</th>\n",
       "      <td>0</td>\n",
       "      <td>Brain Glioma</td>\n",
       "      <td>74</td>\n",
       "      <td>F</td>\n",
       "      <td>Patient is experiencing memory lapses and spee...</td>\n",
       "      <td>surgery</td>\n",
       "      <td>21</td>\n",
       "      <td>Condition: Brain Glioma. Clinical note: Patien...</td>\n",
       "    </tr>\n",
       "    <tr>\n",
       "      <th>1</th>\n",
       "      <td>1</td>\n",
       "      <td>Brain Glioma</td>\n",
       "      <td>66</td>\n",
       "      <td>F</td>\n",
       "      <td>Patient is experiencing visual disturbances an...</td>\n",
       "      <td>chemotherapy</td>\n",
       "      <td>20</td>\n",
       "      <td>Condition: Brain Glioma. Clinical note: Patien...</td>\n",
       "    </tr>\n",
       "    <tr>\n",
       "      <th>2</th>\n",
       "      <td>2</td>\n",
       "      <td>Brain Glioma</td>\n",
       "      <td>62</td>\n",
       "      <td>F</td>\n",
       "      <td>Patient is experiencing memory lapses and dizz...</td>\n",
       "      <td>surgery</td>\n",
       "      <td>20</td>\n",
       "      <td>Condition: Brain Glioma. Clinical note: Patien...</td>\n",
       "    </tr>\n",
       "    <tr>\n",
       "      <th>3</th>\n",
       "      <td>3</td>\n",
       "      <td>Brain Glioma</td>\n",
       "      <td>24</td>\n",
       "      <td>M</td>\n",
       "      <td>Patient is experiencing memory lapses and pers...</td>\n",
       "      <td>surgery</td>\n",
       "      <td>21</td>\n",
       "      <td>Condition: Brain Glioma. Clinical note: Patien...</td>\n",
       "    </tr>\n",
       "    <tr>\n",
       "      <th>4</th>\n",
       "      <td>4</td>\n",
       "      <td>Brain Glioma</td>\n",
       "      <td>69</td>\n",
       "      <td>M</td>\n",
       "      <td>Patient is experiencing dizziness and frequent...</td>\n",
       "      <td>surgery</td>\n",
       "      <td>20</td>\n",
       "      <td>Condition: Brain Glioma. Clinical note: Patien...</td>\n",
       "    </tr>\n",
       "    <tr>\n",
       "      <th>...</th>\n",
       "      <td>...</td>\n",
       "      <td>...</td>\n",
       "      <td>...</td>\n",
       "      <td>...</td>\n",
       "      <td>...</td>\n",
       "      <td>...</td>\n",
       "      <td>...</td>\n",
       "      <td>...</td>\n",
       "    </tr>\n",
       "    <tr>\n",
       "      <th>6051</th>\n",
       "      <td>6051</td>\n",
       "      <td>Brain Tumor</td>\n",
       "      <td>52</td>\n",
       "      <td>F</td>\n",
       "      <td>Patient is experiencing speech problems and ba...</td>\n",
       "      <td>radiation therapy</td>\n",
       "      <td>21</td>\n",
       "      <td>Condition: Brain Tumor. Clinical note: Patient...</td>\n",
       "    </tr>\n",
       "    <tr>\n",
       "      <th>6052</th>\n",
       "      <td>6052</td>\n",
       "      <td>Brain Tumor</td>\n",
       "      <td>49</td>\n",
       "      <td>F</td>\n",
       "      <td>Patient is experiencing nausea and difficulty ...</td>\n",
       "      <td>surgery</td>\n",
       "      <td>20</td>\n",
       "      <td>Condition: Brain Tumor. Clinical note: Patient...</td>\n",
       "    </tr>\n",
       "    <tr>\n",
       "      <th>6053</th>\n",
       "      <td>6053</td>\n",
       "      <td>Brain Tumor</td>\n",
       "      <td>38</td>\n",
       "      <td>F</td>\n",
       "      <td>Patient is experiencing nausea and balance iss...</td>\n",
       "      <td>close monitoring</td>\n",
       "      <td>20</td>\n",
       "      <td>Condition: Brain Tumor. Clinical note: Patient...</td>\n",
       "    </tr>\n",
       "    <tr>\n",
       "      <th>6054</th>\n",
       "      <td>6054</td>\n",
       "      <td>Brain Tumor</td>\n",
       "      <td>65</td>\n",
       "      <td>M</td>\n",
       "      <td>Patient is experiencing balance issues and dif...</td>\n",
       "      <td>radiation therapy</td>\n",
       "      <td>21</td>\n",
       "      <td>Condition: Brain Tumor. Clinical note: Patient...</td>\n",
       "    </tr>\n",
       "    <tr>\n",
       "      <th>6055</th>\n",
       "      <td>6055</td>\n",
       "      <td>Brain Tumor</td>\n",
       "      <td>84</td>\n",
       "      <td>F</td>\n",
       "      <td>Patient is experiencing nausea and recurring s...</td>\n",
       "      <td>radiation therapy</td>\n",
       "      <td>19</td>\n",
       "      <td>Condition: Brain Tumor. Clinical note: Patient...</td>\n",
       "    </tr>\n",
       "  </tbody>\n",
       "</table>\n",
       "<p>6056 rows × 8 columns</p>\n",
       "</div>"
      ],
      "text/plain": [
       "      index     Condition  Age Sex  \\\n",
       "0         0  Brain Glioma   74   F   \n",
       "1         1  Brain Glioma   66   F   \n",
       "2         2  Brain Glioma   62   F   \n",
       "3         3  Brain Glioma   24   M   \n",
       "4         4  Brain Glioma   69   M   \n",
       "...     ...           ...  ...  ..   \n",
       "6051   6051   Brain Tumor   52   F   \n",
       "6052   6052   Brain Tumor   49   F   \n",
       "6053   6053   Brain Tumor   38   F   \n",
       "6054   6054   Brain Tumor   65   M   \n",
       "6055   6055   Brain Tumor   84   F   \n",
       "\n",
       "                                          Clinical Note          Treatment  \\\n",
       "0     Patient is experiencing memory lapses and spee...            surgery   \n",
       "1     Patient is experiencing visual disturbances an...       chemotherapy   \n",
       "2     Patient is experiencing memory lapses and dizz...            surgery   \n",
       "3     Patient is experiencing memory lapses and pers...            surgery   \n",
       "4     Patient is experiencing dizziness and frequent...            surgery   \n",
       "...                                                 ...                ...   \n",
       "6051  Patient is experiencing speech problems and ba...  radiation therapy   \n",
       "6052  Patient is experiencing nausea and difficulty ...            surgery   \n",
       "6053  Patient is experiencing nausea and balance iss...   close monitoring   \n",
       "6054  Patient is experiencing balance issues and dif...  radiation therapy   \n",
       "6055  Patient is experiencing nausea and recurring s...  radiation therapy   \n",
       "\n",
       "      note_length                                         input_text  \n",
       "0              21  Condition: Brain Glioma. Clinical note: Patien...  \n",
       "1              20  Condition: Brain Glioma. Clinical note: Patien...  \n",
       "2              20  Condition: Brain Glioma. Clinical note: Patien...  \n",
       "3              21  Condition: Brain Glioma. Clinical note: Patien...  \n",
       "4              20  Condition: Brain Glioma. Clinical note: Patien...  \n",
       "...           ...                                                ...  \n",
       "6051           21  Condition: Brain Tumor. Clinical note: Patient...  \n",
       "6052           20  Condition: Brain Tumor. Clinical note: Patient...  \n",
       "6053           20  Condition: Brain Tumor. Clinical note: Patient...  \n",
       "6054           21  Condition: Brain Tumor. Clinical note: Patient...  \n",
       "6055           19  Condition: Brain Tumor. Clinical note: Patient...  \n",
       "\n",
       "[6056 rows x 8 columns]"
      ]
     },
     "execution_count": 21,
     "metadata": {},
     "output_type": "execute_result"
    }
   ],
   "source": [
    "df['input_text'] = df.apply(build_input_text, axis=1)\n",
    "df"
   ]
  },
  {
   "cell_type": "code",
   "execution_count": 22,
   "metadata": {
    "execution": {
     "iopub.execute_input": "2025-06-05T14:38:23.816256Z",
     "iopub.status.busy": "2025-06-05T14:38:23.815667Z",
     "iopub.status.idle": "2025-06-05T14:38:23.829776Z",
     "shell.execute_reply": "2025-06-05T14:38:23.829056Z",
     "shell.execute_reply.started": "2025-06-05T14:38:23.816236Z"
    }
   },
   "outputs": [
    {
     "name": "stdout",
     "output_type": "stream",
     "text": [
      "<class 'pandas.core.frame.DataFrame'>\n",
      "RangeIndex: 6056 entries, 0 to 6055\n",
      "Data columns (total 2 columns):\n",
      " #   Column      Non-Null Count  Dtype \n",
      "---  ------      --------------  ----- \n",
      " 0   Treatment   6056 non-null   object\n",
      " 1   input_text  6056 non-null   object\n",
      "dtypes: object(2)\n",
      "memory usage: 94.8+ KB\n",
      "None\n"
     ]
    },
    {
     "data": {
      "text/html": [
       "<div>\n",
       "<style scoped>\n",
       "    .dataframe tbody tr th:only-of-type {\n",
       "        vertical-align: middle;\n",
       "    }\n",
       "\n",
       "    .dataframe tbody tr th {\n",
       "        vertical-align: top;\n",
       "    }\n",
       "\n",
       "    .dataframe thead th {\n",
       "        text-align: right;\n",
       "    }\n",
       "</style>\n",
       "<table border=\"1\" class=\"dataframe\">\n",
       "  <thead>\n",
       "    <tr style=\"text-align: right;\">\n",
       "      <th></th>\n",
       "      <th>Treatment</th>\n",
       "      <th>input_text</th>\n",
       "    </tr>\n",
       "  </thead>\n",
       "  <tbody>\n",
       "    <tr>\n",
       "      <th>0</th>\n",
       "      <td>surgery</td>\n",
       "      <td>Condition: Brain Glioma. Clinical note: Patien...</td>\n",
       "    </tr>\n",
       "    <tr>\n",
       "      <th>1</th>\n",
       "      <td>chemotherapy</td>\n",
       "      <td>Condition: Brain Glioma. Clinical note: Patien...</td>\n",
       "    </tr>\n",
       "    <tr>\n",
       "      <th>2</th>\n",
       "      <td>surgery</td>\n",
       "      <td>Condition: Brain Glioma. Clinical note: Patien...</td>\n",
       "    </tr>\n",
       "    <tr>\n",
       "      <th>3</th>\n",
       "      <td>surgery</td>\n",
       "      <td>Condition: Brain Glioma. Clinical note: Patien...</td>\n",
       "    </tr>\n",
       "    <tr>\n",
       "      <th>4</th>\n",
       "      <td>surgery</td>\n",
       "      <td>Condition: Brain Glioma. Clinical note: Patien...</td>\n",
       "    </tr>\n",
       "  </tbody>\n",
       "</table>\n",
       "</div>"
      ],
      "text/plain": [
       "      Treatment                                         input_text\n",
       "0       surgery  Condition: Brain Glioma. Clinical note: Patien...\n",
       "1  chemotherapy  Condition: Brain Glioma. Clinical note: Patien...\n",
       "2       surgery  Condition: Brain Glioma. Clinical note: Patien...\n",
       "3       surgery  Condition: Brain Glioma. Clinical note: Patien...\n",
       "4       surgery  Condition: Brain Glioma. Clinical note: Patien..."
      ]
     },
     "execution_count": 22,
     "metadata": {},
     "output_type": "execute_result"
    }
   ],
   "source": [
    "df_mod = df.loc[:,['Treatment', 'input_text']].copy()\n",
    "print(df_mod.info())\n",
    "df_mod.head()"
   ]
  },
  {
   "cell_type": "markdown",
   "metadata": {},
   "source": [
    "## Preprocesamiento"
   ]
  },
  {
   "cell_type": "code",
   "execution_count": 23,
   "metadata": {
    "execution": {
     "iopub.execute_input": "2025-06-05T14:38:25.774956Z",
     "iopub.status.busy": "2025-06-05T14:38:25.774180Z",
     "iopub.status.idle": "2025-06-05T14:38:25.787060Z",
     "shell.execute_reply": "2025-06-05T14:38:25.786263Z",
     "shell.execute_reply.started": "2025-06-05T14:38:25.774921Z"
    }
   },
   "outputs": [
    {
     "data": {
      "text/html": [
       "<div>\n",
       "<style scoped>\n",
       "    .dataframe tbody tr th:only-of-type {\n",
       "        vertical-align: middle;\n",
       "    }\n",
       "\n",
       "    .dataframe tbody tr th {\n",
       "        vertical-align: top;\n",
       "    }\n",
       "\n",
       "    .dataframe thead th {\n",
       "        text-align: right;\n",
       "    }\n",
       "</style>\n",
       "<table border=\"1\" class=\"dataframe\">\n",
       "  <thead>\n",
       "    <tr style=\"text-align: right;\">\n",
       "      <th></th>\n",
       "      <th>Treatment</th>\n",
       "      <th>input_text</th>\n",
       "      <th>label</th>\n",
       "    </tr>\n",
       "  </thead>\n",
       "  <tbody>\n",
       "    <tr>\n",
       "      <th>0</th>\n",
       "      <td>surgery</td>\n",
       "      <td>Condition: Brain Glioma. Clinical note: Patien...</td>\n",
       "      <td>3</td>\n",
       "    </tr>\n",
       "    <tr>\n",
       "      <th>1</th>\n",
       "      <td>chemotherapy</td>\n",
       "      <td>Condition: Brain Glioma. Clinical note: Patien...</td>\n",
       "      <td>0</td>\n",
       "    </tr>\n",
       "    <tr>\n",
       "      <th>2</th>\n",
       "      <td>surgery</td>\n",
       "      <td>Condition: Brain Glioma. Clinical note: Patien...</td>\n",
       "      <td>3</td>\n",
       "    </tr>\n",
       "    <tr>\n",
       "      <th>3</th>\n",
       "      <td>surgery</td>\n",
       "      <td>Condition: Brain Glioma. Clinical note: Patien...</td>\n",
       "      <td>3</td>\n",
       "    </tr>\n",
       "    <tr>\n",
       "      <th>4</th>\n",
       "      <td>surgery</td>\n",
       "      <td>Condition: Brain Glioma. Clinical note: Patien...</td>\n",
       "      <td>3</td>\n",
       "    </tr>\n",
       "  </tbody>\n",
       "</table>\n",
       "</div>"
      ],
      "text/plain": [
       "      Treatment                                         input_text  label\n",
       "0       surgery  Condition: Brain Glioma. Clinical note: Patien...      3\n",
       "1  chemotherapy  Condition: Brain Glioma. Clinical note: Patien...      0\n",
       "2       surgery  Condition: Brain Glioma. Clinical note: Patien...      3\n",
       "3       surgery  Condition: Brain Glioma. Clinical note: Patien...      3\n",
       "4       surgery  Condition: Brain Glioma. Clinical note: Patien...      3"
      ]
     },
     "execution_count": 23,
     "metadata": {},
     "output_type": "execute_result"
    }
   ],
   "source": [
    "label_enc = LabelEncoder()\n",
    "df_mod['label'] = label_enc.fit_transform(df_mod['Treatment'])\n",
    "df_mod.head()"
   ]
  },
  {
   "cell_type": "code",
   "execution_count": 24,
   "metadata": {
    "execution": {
     "iopub.execute_input": "2025-06-05T14:38:30.868833Z",
     "iopub.status.busy": "2025-06-05T14:38:30.868558Z",
     "iopub.status.idle": "2025-06-05T14:38:32.262679Z",
     "shell.execute_reply": "2025-06-05T14:38:32.261913Z",
     "shell.execute_reply.started": "2025-06-05T14:38:30.868814Z"
    }
   },
   "outputs": [
    {
     "data": {
      "application/vnd.jupyter.widget-view+json": {
       "model_id": "1822ad85b368400a884d4abad25cd619",
       "version_major": 2,
       "version_minor": 0
      },
      "text/plain": [
       "config.json:   0%|          | 0.00/385 [00:00<?, ?B/s]"
      ]
     },
     "metadata": {},
     "output_type": "display_data"
    },
    {
     "data": {
      "application/vnd.jupyter.widget-view+json": {
       "model_id": "2b8b3cb980ad4886bedec1f4f7a23600",
       "version_major": 2,
       "version_minor": 0
      },
      "text/plain": [
       "vocab.txt:   0%|          | 0.00/213k [00:00<?, ?B/s]"
      ]
     },
     "metadata": {},
     "output_type": "display_data"
    }
   ],
   "source": [
    "tokenizer = AutoTokenizer.from_pretrained(\"emilyalsentzer/Bio_ClinicalBERT\") ## Entrenado con datos clinicos. Mejora la comprensión semántica del modelo para tareas clínicas. A diferencia de BERT o RoBERTa\n",
    "MAX_LEN = 50"
   ]
  },
  {
   "cell_type": "code",
   "execution_count": 25,
   "metadata": {
    "execution": {
     "iopub.execute_input": "2025-06-05T14:38:38.227031Z",
     "iopub.status.busy": "2025-06-05T14:38:38.226766Z",
     "iopub.status.idle": "2025-06-05T14:38:38.233042Z",
     "shell.execute_reply": "2025-06-05T14:38:38.232138Z",
     "shell.execute_reply.started": "2025-06-05T14:38:38.227013Z"
    }
   },
   "outputs": [],
   "source": [
    "class ClinicalNoteDataset(Dataset):\n",
    "    def __init__(self, texts, labels, tokenizer, max_len):\n",
    "        self.texts = texts\n",
    "        self.labels = labels\n",
    "        self.tokenizer = tokenizer\n",
    "        self.max_len = max_len\n",
    "\n",
    "    def __len__(self):\n",
    "        return len(self.texts) # Devuelve el número total de muestras\n",
    "\n",
    "    def __getitem__(self, idx):\n",
    "        text = str(self.texts[idx])\n",
    "        label = self.labels[idx]\n",
    "\n",
    "        encoding = self.tokenizer(\n",
    "            text,\n",
    "            add_special_tokens=True,\n",
    "            max_length=self.max_len,\n",
    "            return_token_type_ids=False,\n",
    "            padding='max_length',\n",
    "            truncation=True,\n",
    "            return_attention_mask=True,\n",
    "            return_tensors='pt'\n",
    "        )\n",
    "\n",
    "        return {\n",
    "            'input_ids': encoding['input_ids'].flatten(),\n",
    "            'attention_mask': encoding['attention_mask'].flatten(),\n",
    "            'label': torch.tensor(label, dtype=torch.long)\n",
    "        }"
   ]
  },
  {
   "cell_type": "code",
   "execution_count": 26,
   "metadata": {
    "execution": {
     "iopub.execute_input": "2025-06-05T14:38:40.317143Z",
     "iopub.status.busy": "2025-06-05T14:38:40.316464Z",
     "iopub.status.idle": "2025-06-05T14:38:40.328979Z",
     "shell.execute_reply": "2025-06-05T14:38:40.328429Z",
     "shell.execute_reply.started": "2025-06-05T14:38:40.317121Z"
    }
   },
   "outputs": [],
   "source": [
    "X = df_mod['input_text'].tolist()\n",
    "y = df_mod['label'].tolist()\n",
    "\n",
    "X_train, X_temp, y_train, y_temp = train_test_split(X, y, test_size=0.3, stratify=y, random_state=42) # stratify asegura que la distribución de clases se mantenga en cada subconjunto.\n",
    "X_val, X_test, y_val, y_test = train_test_split(X_temp, y_temp, test_size=0.5, stratify=y_temp, random_state=42)"
   ]
  },
  {
   "cell_type": "code",
   "execution_count": 27,
   "metadata": {
    "execution": {
     "iopub.execute_input": "2025-06-05T14:38:41.393588Z",
     "iopub.status.busy": "2025-06-05T14:38:41.393054Z",
     "iopub.status.idle": "2025-06-05T14:38:41.396999Z",
     "shell.execute_reply": "2025-06-05T14:38:41.396361Z",
     "shell.execute_reply.started": "2025-06-05T14:38:41.393567Z"
    }
   },
   "outputs": [],
   "source": [
    "BATCH_SIZE = 16"
   ]
  },
  {
   "cell_type": "code",
   "execution_count": 28,
   "metadata": {
    "execution": {
     "iopub.execute_input": "2025-06-05T14:38:44.625473Z",
     "iopub.status.busy": "2025-06-05T14:38:44.624932Z",
     "iopub.status.idle": "2025-06-05T14:38:44.629920Z",
     "shell.execute_reply": "2025-06-05T14:38:44.629205Z",
     "shell.execute_reply.started": "2025-06-05T14:38:44.625452Z"
    }
   },
   "outputs": [],
   "source": [
    "train_dataset = ClinicalNoteDataset(X_train, y_train, tokenizer, MAX_LEN)\n",
    "val_dataset = ClinicalNoteDataset(X_val, y_val, tokenizer, MAX_LEN)\n",
    "test_dataset = ClinicalNoteDataset(X_test, y_test, tokenizer, MAX_LEN)\n",
    "\n",
    "train_loader = DataLoader(train_dataset, batch_size=BATCH_SIZE, shuffle=True)\n",
    "val_loader = DataLoader(val_dataset, batch_size=BATCH_SIZE)\n",
    "test_loader = DataLoader(test_dataset, batch_size=BATCH_SIZE)"
   ]
  },
  {
   "cell_type": "code",
   "execution_count": 29,
   "metadata": {
    "execution": {
     "iopub.execute_input": "2025-06-05T14:38:44.987925Z",
     "iopub.status.busy": "2025-06-05T14:38:44.987672Z",
     "iopub.status.idle": "2025-06-05T14:38:44.992790Z",
     "shell.execute_reply": "2025-06-05T14:38:44.991953Z",
     "shell.execute_reply.started": "2025-06-05T14:38:44.987909Z"
    }
   },
   "outputs": [],
   "source": [
    "class ClinicalBERTClassifier(nn.Module):\n",
    "    def __init__(self, n_classes):\n",
    "        super(ClinicalBERTClassifier, self).__init__()\n",
    "        self.bert = AutoModel.from_pretrained(\"emilyalsentzer/Bio_ClinicalBERT\")\n",
    "        self.dropout = nn.Dropout(p=0.3)\n",
    "        self.out = nn.Linear(self.bert.config.hidden_size, n_classes)\n",
    "\n",
    "    def forward(self, input_ids, attention_mask):\n",
    "        outputs = self.bert(\n",
    "            input_ids=input_ids,\n",
    "            attention_mask=attention_mask\n",
    "        )\n",
    "        pooled_output = outputs.pooler_output  # [CLS] token\n",
    "        output = self.dropout(pooled_output)\n",
    "        return self.out(output)"
   ]
  },
  {
   "cell_type": "code",
   "execution_count": 30,
   "metadata": {
    "execution": {
     "iopub.execute_input": "2025-06-05T14:38:48.376287Z",
     "iopub.status.busy": "2025-06-05T14:38:48.376026Z",
     "iopub.status.idle": "2025-06-05T14:38:48.380645Z",
     "shell.execute_reply": "2025-06-05T14:38:48.379928Z",
     "shell.execute_reply.started": "2025-06-05T14:38:48.376270Z"
    }
   },
   "outputs": [
    {
     "name": "stdout",
     "output_type": "stream",
     "text": [
      "cuda\n"
     ]
    }
   ],
   "source": [
    "device = torch.device(\"cuda\" if torch.cuda.is_available() else \"cpu\")\n",
    "print(device)"
   ]
  },
  {
   "cell_type": "markdown",
   "metadata": {},
   "source": [
    "### Entrenamiento"
   ]
  },
  {
   "cell_type": "code",
   "execution_count": 56,
   "metadata": {
    "execution": {
     "iopub.execute_input": "2025-06-05T15:07:30.285818Z",
     "iopub.status.busy": "2025-06-05T15:07:30.285554Z",
     "iopub.status.idle": "2025-06-05T15:07:31.948855Z",
     "shell.execute_reply": "2025-06-05T15:07:31.948215Z",
     "shell.execute_reply.started": "2025-06-05T15:07:30.285799Z"
    }
   },
   "outputs": [
    {
     "name": "stderr",
     "output_type": "stream",
     "text": [
      "Some weights of BertForSequenceClassification were not initialized from the model checkpoint at emilyalsentzer/Bio_ClinicalBERT and are newly initialized: ['classifier.bias', 'classifier.weight']\n",
      "You should probably TRAIN this model on a down-stream task to be able to use it for predictions and inference.\n"
     ]
    }
   ],
   "source": [
    "model = BertForSequenceClassification.from_pretrained(\n",
    "    \"emilyalsentzer/Bio_ClinicalBERT\",\n",
    "    num_labels=len(label_enc.classes_),\n",
    "    problem_type=\"single_label_classification\"\n",
    ")\n",
    "model = model.to(device)"
   ]
  },
  {
   "cell_type": "code",
   "execution_count": 33,
   "metadata": {
    "execution": {
     "iopub.execute_input": "2025-06-05T14:39:19.498480Z",
     "iopub.status.busy": "2025-06-05T14:39:19.497950Z",
     "iopub.status.idle": "2025-06-05T14:39:24.419166Z",
     "shell.execute_reply": "2025-06-05T14:39:24.418622Z",
     "shell.execute_reply.started": "2025-06-05T14:39:19.498460Z"
    }
   },
   "outputs": [],
   "source": [
    "#model = ClinicalBERTClassifier(n_classes=len(label_enc.classes_))\n",
    "#model = model.to(device)"
   ]
  },
  {
   "cell_type": "code",
   "execution_count": 57,
   "metadata": {
    "execution": {
     "iopub.execute_input": "2025-06-05T15:09:18.792420Z",
     "iopub.status.busy": "2025-06-05T15:09:18.792145Z",
     "iopub.status.idle": "2025-06-05T15:09:18.797156Z",
     "shell.execute_reply": "2025-06-05T15:09:18.796458Z",
     "shell.execute_reply.started": "2025-06-05T15:09:18.792401Z"
    }
   },
   "outputs": [],
   "source": [
    "optimizer = AdamW(model.parameters(), lr=2e-5)\n",
    "criterion = nn.CrossEntropyLoss()"
   ]
  },
  {
   "cell_type": "code",
   "execution_count": 58,
   "metadata": {
    "execution": {
     "iopub.execute_input": "2025-06-05T15:09:20.743050Z",
     "iopub.status.busy": "2025-06-05T15:09:20.742590Z",
     "iopub.status.idle": "2025-06-05T15:09:20.746275Z",
     "shell.execute_reply": "2025-06-05T15:09:20.745594Z",
     "shell.execute_reply.started": "2025-06-05T15:09:20.743026Z"
    }
   },
   "outputs": [],
   "source": [
    "EPOCHS = 5"
   ]
  },
  {
   "cell_type": "code",
   "execution_count": 59,
   "metadata": {
    "execution": {
     "iopub.execute_input": "2025-06-05T15:09:22.229144Z",
     "iopub.status.busy": "2025-06-05T15:09:22.228673Z",
     "iopub.status.idle": "2025-06-05T15:09:22.235599Z",
     "shell.execute_reply": "2025-06-05T15:09:22.235011Z",
     "shell.execute_reply.started": "2025-06-05T15:09:22.229120Z"
    }
   },
   "outputs": [],
   "source": [
    "num_training_steps = len(train_loader) * EPOCHS\n",
    "lr_scheduler = get_scheduler(\n",
    "    name=\"linear\",\n",
    "    optimizer=optimizer,\n",
    "    num_warmup_steps=0,\n",
    "    num_training_steps=num_training_steps,\n",
    ")"
   ]
  },
  {
   "cell_type": "code",
   "execution_count": 66,
   "metadata": {
    "execution": {
     "iopub.execute_input": "2025-06-05T15:11:45.292803Z",
     "iopub.status.busy": "2025-06-05T15:11:45.292230Z",
     "iopub.status.idle": "2025-06-05T15:11:45.298297Z",
     "shell.execute_reply": "2025-06-05T15:11:45.297452Z",
     "shell.execute_reply.started": "2025-06-05T15:11:45.292780Z"
    }
   },
   "outputs": [],
   "source": [
    "def train_epoch(model, data_loader, optimizer, criterion, scheduler, device):\n",
    "    model.train()\n",
    "    total_loss = 0\n",
    "    true_labels, pred_labels = [], []\n",
    "\n",
    "    for batch in data_loader:\n",
    "        input_ids = batch['input_ids'].to(device)\n",
    "        attention_mask = batch['attention_mask'].to(device)\n",
    "        labels = batch['label'].to(device)\n",
    "\n",
    "        outputs = model(input_ids=input_ids, attention_mask=attention_mask)\n",
    "        logits = outputs.logits\n",
    "        loss = criterion(logits, labels)\n",
    "        _, preds = torch.max(logits, dim=1)\n",
    "\n",
    "        optimizer.zero_grad()\n",
    "        loss.backward()\n",
    "        optimizer.step()\n",
    "        scheduler.step()\n",
    "\n",
    "        total_loss += loss.item()\n",
    "        true_labels.extend(labels.cpu().numpy())\n",
    "        pred_labels.extend(preds.cpu().numpy())\n",
    "\n",
    "    acc = accuracy_score(true_labels, pred_labels)\n",
    "    return total_loss / len(data_loader), acc"
   ]
  },
  {
   "cell_type": "code",
   "execution_count": 67,
   "metadata": {
    "execution": {
     "iopub.execute_input": "2025-06-05T15:11:45.697012Z",
     "iopub.status.busy": "2025-06-05T15:11:45.696537Z",
     "iopub.status.idle": "2025-06-05T15:11:45.702235Z",
     "shell.execute_reply": "2025-06-05T15:11:45.701409Z",
     "shell.execute_reply.started": "2025-06-05T15:11:45.696987Z"
    }
   },
   "outputs": [],
   "source": [
    "def eval_model(model, data_loader, criterion, device):\n",
    "    model.eval()\n",
    "    total_loss = 0\n",
    "    true_labels, pred_labels = [], []\n",
    "\n",
    "    with torch.no_grad():\n",
    "        for batch in data_loader:\n",
    "            input_ids = batch['input_ids'].to(device)\n",
    "            attention_mask = batch['attention_mask'].to(device)\n",
    "            labels = batch['label'].to(device)\n",
    "\n",
    "            outputs = model(input_ids=input_ids, attention_mask=attention_mask)\n",
    "            logits = outputs.logits\n",
    "            loss = criterion(logits, labels)\n",
    "            _, preds = torch.max(logits, dim=1)\n",
    "\n",
    "            total_loss += loss.item()\n",
    "            true_labels.extend(labels.cpu().numpy())\n",
    "            pred_labels.extend(preds.cpu().numpy())\n",
    "\n",
    "    acc = accuracy_score(true_labels, pred_labels)\n",
    "    return total_loss / len(data_loader), acc"
   ]
  },
  {
   "cell_type": "code",
   "execution_count": 68,
   "metadata": {
    "execution": {
     "iopub.execute_input": "2025-06-05T15:11:58.616149Z",
     "iopub.status.busy": "2025-06-05T15:11:58.615890Z",
     "iopub.status.idle": "2025-06-05T15:11:58.619881Z",
     "shell.execute_reply": "2025-06-05T15:11:58.619210Z",
     "shell.execute_reply.started": "2025-06-05T15:11:58.616131Z"
    }
   },
   "outputs": [],
   "source": [
    "best_acc = 0\n",
    "best_model_path = 'best_clinicalbert_model.pth'"
   ]
  },
  {
   "cell_type": "code",
   "execution_count": 69,
   "metadata": {
    "execution": {
     "iopub.execute_input": "2025-06-05T15:11:59.624072Z",
     "iopub.status.busy": "2025-06-05T15:11:59.623330Z",
     "iopub.status.idle": "2025-06-05T15:16:40.139195Z",
     "shell.execute_reply": "2025-06-05T15:16:40.138557Z",
     "shell.execute_reply.started": "2025-06-05T15:11:59.624046Z"
    }
   },
   "outputs": [
    {
     "name": "stdout",
     "output_type": "stream",
     "text": [
      "\n",
      "--- Epoch 1/5 ---\n",
      "Train loss: 1.2743 | Train acc: 0.2989\n",
      "Val loss:   1.2245 | Val acc:   0.3018\n",
      "✅ Nuevo mejor modelo guardado con Accuracy = 0.3018\n",
      "\n",
      "--- Epoch 2/5 ---\n",
      "Train loss: 1.2131 | Train acc: 0.3159\n",
      "Val loss:   1.2062 | Val acc:   0.3073\n",
      "✅ Nuevo mejor modelo guardado con Accuracy = 0.3073\n",
      "\n",
      "--- Epoch 3/5 ---\n",
      "Train loss: 1.2097 | Train acc: 0.3159\n",
      "Val loss:   1.2089 | Val acc:   0.3018\n",
      "\n",
      "--- Epoch 4/5 ---\n",
      "Train loss: 1.2057 | Train acc: 0.3090\n",
      "Val loss:   1.2022 | Val acc:   0.2941\n",
      "\n",
      "--- Epoch 5/5 ---\n",
      "Train loss: 1.1973 | Train acc: 0.3369\n",
      "Val loss:   1.2044 | Val acc:   0.3062\n"
     ]
    }
   ],
   "source": [
    "for epoch in range(EPOCHS):\n",
    "    print(f'\\n--- Epoch {epoch + 1}/{EPOCHS} ---')\n",
    "    \n",
    "    train_loss, train_acc = train_epoch(model, train_loader, optimizer, criterion, lr_scheduler, device)\n",
    "    val_loss, val_acc = eval_model(model, val_loader, criterion, device)\n",
    "\n",
    "    print(f'Train loss: {train_loss:.4f} | Train acc: {train_acc:.4f}')\n",
    "    print(f'Val loss:   {val_loss:.4f} | Val acc:   {val_acc:.4f}')\n",
    "\n",
    "    if val_acc > best_acc:\n",
    "        best_acc = val_acc\n",
    "        torch.save(model.state_dict(), best_model_path)\n",
    "        print(f\"✅ Nuevo mejor modelo guardado con Accuracy = {best_acc:.4f}\")"
   ]
  },
  {
   "cell_type": "code",
   "execution_count": 70,
   "metadata": {
    "execution": {
     "iopub.execute_input": "2025-06-05T15:16:52.153551Z",
     "iopub.status.busy": "2025-06-05T15:16:52.152843Z",
     "iopub.status.idle": "2025-06-05T15:16:52.402053Z",
     "shell.execute_reply": "2025-06-05T15:16:52.401534Z",
     "shell.execute_reply.started": "2025-06-05T15:16:52.153517Z"
    }
   },
   "outputs": [],
   "source": [
    "model.load_state_dict(torch.load('best_clinicalbert_model.pth'))\n",
    "model = model.to(device)"
   ]
  },
  {
   "cell_type": "code",
   "execution_count": 76,
   "metadata": {
    "execution": {
     "iopub.execute_input": "2025-06-05T15:24:17.086636Z",
     "iopub.status.busy": "2025-06-05T15:24:17.086065Z",
     "iopub.status.idle": "2025-06-05T15:24:17.611213Z",
     "shell.execute_reply": "2025-06-05T15:24:17.610620Z",
     "shell.execute_reply.started": "2025-06-05T15:24:17.086613Z"
    }
   },
   "outputs": [
    {
     "data": {
      "text/plain": [
       "('clinicalbert-treatment-classifier/tokenizer_config.json',\n",
       " 'clinicalbert-treatment-classifier/special_tokens_map.json',\n",
       " 'clinicalbert-treatment-classifier/vocab.txt',\n",
       " 'clinicalbert-treatment-classifier/added_tokens.json',\n",
       " 'clinicalbert-treatment-classifier/tokenizer.json')"
      ]
     },
     "execution_count": 76,
     "metadata": {},
     "output_type": "execute_result"
    }
   ],
   "source": [
    "model.save_pretrained(\"clinicalbert-treatment-classifier\")\n",
    "tokenizer.save_pretrained(\"clinicalbert-treatment-classifier\")"
   ]
  },
  {
   "cell_type": "code",
   "execution_count": 79,
   "metadata": {
    "execution": {
     "iopub.execute_input": "2025-06-05T15:28:07.227699Z",
     "iopub.status.busy": "2025-06-05T15:28:07.227319Z",
     "iopub.status.idle": "2025-06-05T15:28:11.052164Z",
     "shell.execute_reply": "2025-06-05T15:28:11.051515Z",
     "shell.execute_reply.started": "2025-06-05T15:28:07.227676Z"
    }
   },
   "outputs": [
    {
     "name": "stdout",
     "output_type": "stream",
     "text": [
      "\n",
      "📊 Accuracy en el test set: 0.3069\n"
     ]
    }
   ],
   "source": [
    "def test_model(model, data_loader, device):\n",
    "    model.eval()\n",
    "    true_labels, pred_labels = [], []\n",
    "\n",
    "    with torch.no_grad():\n",
    "        for batch in data_loader:\n",
    "            input_ids = batch['input_ids'].to(device)\n",
    "            attention_mask = batch['attention_mask'].to(device)\n",
    "            labels = batch['label'].to(device)\n",
    "\n",
    "            outputs = model(input_ids=input_ids, attention_mask=attention_mask)\n",
    "            logits = outputs.logits  # ← CORRECCIÓN CLAVE\n",
    "            _, preds = torch.max(logits, dim=1)\n",
    "\n",
    "            true_labels.extend(labels.cpu().numpy())\n",
    "            pred_labels.extend(preds.cpu().numpy())\n",
    "\n",
    "    acc = accuracy_score(true_labels, pred_labels)\n",
    "    return true_labels, pred_labels, acc\n",
    "\n",
    "y_true, y_pred, test_acc = test_model(model, test_loader, device)\n",
    "print(f\"\\n📊 Accuracy en el test set: {test_acc:.4f}\")"
   ]
  },
  {
   "cell_type": "code",
   "execution_count": 80,
   "metadata": {
    "execution": {
     "iopub.execute_input": "2025-06-05T15:28:16.695802Z",
     "iopub.status.busy": "2025-06-05T15:28:16.695518Z",
     "iopub.status.idle": "2025-06-05T15:28:16.920877Z",
     "shell.execute_reply": "2025-06-05T15:28:16.920170Z",
     "shell.execute_reply.started": "2025-06-05T15:28:16.695782Z"
    }
   },
   "outputs": [
    {
     "data": {
      "image/png": "[encoded data removed]",
      "text/plain": [
       "<Figure size 800x600 with 2 Axes>"
      ]
     },
     "metadata": {},
     "output_type": "display_data"
    },
    {
     "name": "stdout",
     "output_type": "stream",
     "text": [
      "\n",
      "🔍 Reporte de clasificación:\n",
      "                   precision    recall  f1-score   support\n",
      "\n",
      "     chemotherapy       0.30      0.86      0.44       176\n",
      " close monitoring       0.31      0.19      0.23       171\n",
      "radiation therapy       0.00      0.00      0.00       285\n",
      "          surgery       0.32      0.35      0.33       277\n",
      "\n",
      "         accuracy                           0.31       909\n",
      "        macro avg       0.23      0.35      0.25       909\n",
      "     weighted avg       0.21      0.31      0.23       909\n",
      "\n"
     ]
    },
    {
     "name": "stderr",
     "output_type": "stream",
     "text": [
      "/usr/local/lib/python3.11/dist-packages/sklearn/metrics/_classification.py:1344: UndefinedMetricWarning: Precision and F-score are ill-defined and being set to 0.0 in labels with no predicted samples. Use `zero_division` parameter to control this behavior.\n",
      "  _warn_prf(average, modifier, msg_start, len(result))\n",
      "/usr/local/lib/python3.11/dist-packages/sklearn/metrics/_classification.py:1344: UndefinedMetricWarning: Precision and F-score are ill-defined and being set to 0.0 in labels with no predicted samples. Use `zero_division` parameter to control this behavior.\n",
      "  _warn_prf(average, modifier, msg_start, len(result))\n",
      "/usr/local/lib/python3.11/dist-packages/sklearn/metrics/_classification.py:1344: UndefinedMetricWarning: Precision and F-score are ill-defined and being set to 0.0 in labels with no predicted samples. Use `zero_division` parameter to control this behavior.\n",
      "  _warn_prf(average, modifier, msg_start, len(result))\n"
     ]
    }
   ],
   "source": [
    "# Matriz de confusión\n",
    "cm = confusion_matrix(y_true, y_pred)\n",
    "labels = label_enc.classes_\n",
    "\n",
    "plt.figure(figsize=(8, 6))\n",
    "sns.heatmap(cm, annot=True, fmt=\"d\", xticklabels=labels, yticklabels=labels, cmap=\"Blues\")\n",
    "plt.xlabel(\"Predicción\")\n",
    "plt.ylabel(\"Verdadero\")\n",
    "plt.title(\"Matriz de Confusión\")\n",
    "plt.show()\n",
    "\n",
    "print(\"\\n🔍 Reporte de clasificación:\")\n",
    "print(classification_report(y_true, y_pred, target_names=labels))\n"
   ]
  },
  {
   "cell_type": "markdown",
   "metadata": {},
   "source": [
    "## Guardar modelo HuggingFace"
   ]
  },
  {
   "cell_type": "code",
   "execution_count": 44,
   "metadata": {
    "execution": {
     "iopub.execute_input": "2025-06-05T14:45:02.894464Z",
     "iopub.status.busy": "2025-06-05T14:45:02.893787Z",
     "iopub.status.idle": "2025-06-05T14:45:02.901083Z",
     "shell.execute_reply": "2025-06-05T14:45:02.900508Z",
     "shell.execute_reply.started": "2025-06-05T14:45:02.894442Z"
    }
   },
   "outputs": [],
   "source": [
    "from huggingface_hub import notebook_login\n",
    "from huggingface_hub import create_repo\n",
    "from huggingface_hub import upload_folder\n",
    "from transformers import AutoModelForSequenceClassification, AutoTokenizer"
   ]
  },
  {
   "cell_type": "code",
   "execution_count": 45,
   "metadata": {
    "execution": {
     "iopub.execute_input": "2025-06-05T14:45:04.942449Z",
     "iopub.status.busy": "2025-06-05T14:45:04.941985Z",
     "iopub.status.idle": "2025-06-05T14:45:04.956784Z",
     "shell.execute_reply": "2025-06-05T14:45:04.955939Z",
     "shell.execute_reply.started": "2025-06-05T14:45:04.942428Z"
    }
   },
   "outputs": [
    {
     "data": {
      "application/vnd.jupyter.widget-view+json": {
       "model_id": "6ba129dad7504bc98d2364188e6f617c",
       "version_major": 2,
       "version_minor": 0
      },
      "text/plain": [
       "VBox(children=(HTML(value='<center> <img\\nsrc=https://huggingface.co/front/assets/huggingface_logo-noborder.sv…"
      ]
     },
     "metadata": {},
     "output_type": "display_data"
    }
   ],
   "source": [
    "notebook_login()"
   ]
  },
  {
   "cell_type": "code",
   "execution_count": 77,
   "metadata": {
    "execution": {
     "iopub.execute_input": "2025-06-05T15:25:54.915303Z",
     "iopub.status.busy": "2025-06-05T15:25:54.915032Z",
     "iopub.status.idle": "2025-06-05T15:26:10.363685Z",
     "shell.execute_reply": "2025-06-05T15:26:10.363014Z",
     "shell.execute_reply.started": "2025-06-05T15:25:54.915284Z"
    }
   },
   "outputs": [
    {
     "data": {
      "application/vnd.jupyter.widget-view+json": {
       "model_id": "d5c9abec071a4ae2bb911dbc478f6c61",
       "version_major": 2,
       "version_minor": 0
      },
      "text/plain": [
       "model.safetensors:   0%|          | 0.00/433M [00:00<?, ?B/s]"
      ]
     },
     "metadata": {},
     "output_type": "display_data"
    },
    {
     "data": {
      "text/plain": [
       "CommitInfo(commit_url='https://huggingface.co/jherronr/clinicalbert-treatment-classifier/commit/24e657950039c2c625d354c6432fc471343d94f2', commit_message='Upload folder using huggingface_hub', commit_description='', oid='24e657950039c2c625d354c6432fc471343d94f2', pr_url=None, repo_url=RepoUrl('https://huggingface.co/jherronr/clinicalbert-treatment-classifier', endpoint='https://huggingface.co', repo_type='model', repo_id='jherronr/clinicalbert-treatment-classifier'), pr_revision=None, pr_num=None)"
      ]
     },
     "execution_count": 77,
     "metadata": {},
     "output_type": "execute_result"
    }
   ],
   "source": [
    "repo_id = \"jherronr/clinicalbert-treatment-classifier\"  \n",
    "\n",
    "upload_folder(\n",
    "    folder_path=\"clinicalbert-treatment-classifier\",\n",
    "    repo_id=repo_id,\n",
    "    repo_type=\"model\",\n",
    "    allow_patterns=\"*\"\n",
    ")\n"
   ]
  },
  {
   "cell_type": "code",
   "execution_count": 78,
   "metadata": {
    "execution": {
     "iopub.execute_input": "2025-06-05T15:26:17.130445Z",
     "iopub.status.busy": "2025-06-05T15:26:17.129884Z",
     "iopub.status.idle": "2025-06-05T15:26:47.573121Z",
     "shell.execute_reply": "2025-06-05T15:26:47.572475Z",
     "shell.execute_reply.started": "2025-06-05T15:26:17.130424Z"
    }
   },
   "outputs": [
    {
     "data": {
      "application/vnd.jupyter.widget-view+json": {
       "model_id": "67e4c981af744912b70e1cd44d53c665",
       "version_major": 2,
       "version_minor": 0
      },
      "text/plain": [
       "config.json:   0%|          | 0.00/844 [00:00<?, ?B/s]"
      ]
     },
     "metadata": {},
     "output_type": "display_data"
    },
    {
     "data": {
      "application/vnd.jupyter.widget-view+json": {
       "model_id": "9bb9fde82b914d79a10e25bb6b5d67c2",
       "version_major": 2,
       "version_minor": 0
      },
      "text/plain": [
       "model.safetensors:   0%|          | 0.00/433M [00:00<?, ?B/s]"
      ]
     },
     "metadata": {},
     "output_type": "display_data"
    },
    {
     "data": {
      "application/vnd.jupyter.widget-view+json": {
       "model_id": "d56e22f320fb4b84bc1f26e2029d9e9d",
       "version_major": 2,
       "version_minor": 0
      },
      "text/plain": [
       "tokenizer_config.json:   0%|          | 0.00/1.30k [00:00<?, ?B/s]"
      ]
     },
     "metadata": {},
     "output_type": "display_data"
    },
    {
     "data": {
      "application/vnd.jupyter.widget-view+json": {
       "model_id": "cf03edb35c094e90994848e4a02f5c1a",
       "version_major": 2,
       "version_minor": 0
      },
      "text/plain": [
       "vocab.txt:   0%|          | 0.00/213k [00:00<?, ?B/s]"
      ]
     },
     "metadata": {},
     "output_type": "display_data"
    },
    {
     "data": {
      "application/vnd.jupyter.widget-view+json": {
       "model_id": "7659474b9441449b821e30ab674f5587",
       "version_major": 2,
       "version_minor": 0
      },
      "text/plain": [
       "tokenizer.json:   0%|          | 0.00/669k [00:00<?, ?B/s]"
      ]
     },
     "metadata": {},
     "output_type": "display_data"
    },
    {
     "data": {
      "application/vnd.jupyter.widget-view+json": {
       "model_id": "c62fc075484042a497ae7a8abb45399b",
       "version_major": 2,
       "version_minor": 0
      },
      "text/plain": [
       "special_tokens_map.json:   0%|          | 0.00/125 [00:00<?, ?B/s]"
      ]
     },
     "metadata": {},
     "output_type": "display_data"
    },
    {
     "name": "stderr",
     "output_type": "stream",
     "text": [
      "Device set to use cuda:0\n"
     ]
    },
    {
     "name": "stdout",
     "output_type": "stream",
     "text": [
      "[{'label': 'LABEL_3', 'score': 0.3457399904727936}]\n"
     ]
    }
   ],
   "source": [
    "from transformers import pipeline\n",
    "\n",
    "clf = pipeline(\"text-classification\", model=repo_id, tokenizer=repo_id)\n",
    "text = \"Condition: Brain Glioma. Clinical note: Patient has experienced seizures and blurry vision.\"\n",
    "print(clf(text))"
   ]
  }
 ],
 "metadata": {
  "kaggle": {
   "accelerator": "nvidiaTeslaT4",
   "dataSources": [
    {
     "datasetId": 7592208,
     "sourceId": 12062098,
     "sourceType": "datasetVersion"
    }
   ],
   "dockerImageVersionId": 31041,
   "isGpuEnabled": true,
   "isInternetEnabled": true,
   "language": "python",
   "sourceType": "notebook"
  },
  "kernelspec": {
   "display_name": "Python 3 (ipykernel)",
   "language": "python",
   "name": "python3"
  },
  "language_info": {
   "codemirror_mode": {
    "name": "ipython",
    "version": 3
   },
   "file_extension": ".py",
   "mimetype": "text/x-python",
   "name": "python",
   "nbconvert_exporter": "python",
   "pygments_lexer": "ipython3",
   "version": "3.13.4"
  }
 },
 "nbformat": 4,
 "nbformat_minor": 4
}
